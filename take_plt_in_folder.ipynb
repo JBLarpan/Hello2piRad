{
  "nbformat": 4,
  "nbformat_minor": 0,
  "metadata": {
    "colab": {
      "provenance": [],
      "authorship_tag": "ABX9TyM9tE7vdUyjx8EiJ3odUilF",
      "include_colab_link": true
    },
    "kernelspec": {
      "name": "python3",
      "display_name": "Python 3"
    },
    "language_info": {
      "name": "python"
    }
  },
  "cells": [
    {
      "cell_type": "markdown",
      "metadata": {
        "id": "view-in-github",
        "colab_type": "text"
      },
      "source": [
        "<a href=\"https://colab.research.google.com/github/JBLarpan/Hello2piRad/blob/master/take_plt_in_folder.ipynb\" target=\"_parent\"><img src=\"https://colab.research.google.com/assets/colab-badge.svg\" alt=\"Open In Colab\"/></a>"
      ]
    },
    {
      "cell_type": "code",
      "source": [
        "!pip install Pillow\n",
        "!pip install google-api-python-client google-auth-httplib2 google-auth-oauthlib pydrive\n",
        "\n"
      ],
      "metadata": {
        "colab": {
          "base_uri": "https://localhost:8080/"
        },
        "id": "G4aK-G_q6Sxl",
        "outputId": "1f2e5761-18ef-4dd7-ca55-f88038c91245"
      },
      "execution_count": null,
      "outputs": [
        {
          "output_type": "stream",
          "name": "stdout",
          "text": [
            "Requirement already satisfied: Pillow in /usr/local/lib/python3.10/dist-packages (8.4.0)\n",
            "Requirement already satisfied: google-api-python-client in /usr/local/lib/python3.10/dist-packages (2.84.0)\n",
            "Requirement already satisfied: google-auth-httplib2 in /usr/local/lib/python3.10/dist-packages (0.1.0)\n",
            "Requirement already satisfied: google-auth-oauthlib in /usr/local/lib/python3.10/dist-packages (1.0.0)\n",
            "Requirement already satisfied: pydrive in /usr/local/lib/python3.10/dist-packages (1.3.1)\n",
            "Requirement already satisfied: httplib2<1dev,>=0.15.0 in /usr/local/lib/python3.10/dist-packages (from google-api-python-client) (0.21.0)\n",
            "Requirement already satisfied: google-auth<3.0.0dev,>=1.19.0 in /usr/local/lib/python3.10/dist-packages (from google-api-python-client) (2.17.3)\n",
            "Requirement already satisfied: google-api-core!=2.0.*,!=2.1.*,!=2.2.*,!=2.3.0,<3.0.0dev,>=1.31.5 in /usr/local/lib/python3.10/dist-packages (from google-api-python-client) (2.11.1)\n",
            "Requirement already satisfied: uritemplate<5,>=3.0.1 in /usr/local/lib/python3.10/dist-packages (from google-api-python-client) (4.1.1)\n",
            "Requirement already satisfied: six in /usr/local/lib/python3.10/dist-packages (from google-auth-httplib2) (1.16.0)\n",
            "Requirement already satisfied: requests-oauthlib>=0.7.0 in /usr/local/lib/python3.10/dist-packages (from google-auth-oauthlib) (1.3.1)\n",
            "Requirement already satisfied: oauth2client>=4.0.0 in /usr/local/lib/python3.10/dist-packages (from pydrive) (4.1.3)\n",
            "Requirement already satisfied: PyYAML>=3.0 in /usr/local/lib/python3.10/dist-packages (from pydrive) (6.0)\n",
            "Requirement already satisfied: googleapis-common-protos<2.0.dev0,>=1.56.2 in /usr/local/lib/python3.10/dist-packages (from google-api-core!=2.0.*,!=2.1.*,!=2.2.*,!=2.3.0,<3.0.0dev,>=1.31.5->google-api-python-client) (1.59.1)\n",
            "Requirement already satisfied: protobuf!=3.20.0,!=3.20.1,!=4.21.0,!=4.21.1,!=4.21.2,!=4.21.3,!=4.21.4,!=4.21.5,<5.0.0.dev0,>=3.19.5 in /usr/local/lib/python3.10/dist-packages (from google-api-core!=2.0.*,!=2.1.*,!=2.2.*,!=2.3.0,<3.0.0dev,>=1.31.5->google-api-python-client) (3.20.3)\n",
            "Requirement already satisfied: requests<3.0.0.dev0,>=2.18.0 in /usr/local/lib/python3.10/dist-packages (from google-api-core!=2.0.*,!=2.1.*,!=2.2.*,!=2.3.0,<3.0.0dev,>=1.31.5->google-api-python-client) (2.27.1)\n",
            "Requirement already satisfied: cachetools<6.0,>=2.0.0 in /usr/local/lib/python3.10/dist-packages (from google-auth<3.0.0dev,>=1.19.0->google-api-python-client) (5.3.1)\n",
            "Requirement already satisfied: pyasn1-modules>=0.2.1 in /usr/local/lib/python3.10/dist-packages (from google-auth<3.0.0dev,>=1.19.0->google-api-python-client) (0.3.0)\n",
            "Requirement already satisfied: rsa<5,>=3.1.4 in /usr/local/lib/python3.10/dist-packages (from google-auth<3.0.0dev,>=1.19.0->google-api-python-client) (4.9)\n",
            "Requirement already satisfied: pyparsing!=3.0.0,!=3.0.1,!=3.0.2,!=3.0.3,<4,>=2.4.2 in /usr/local/lib/python3.10/dist-packages (from httplib2<1dev,>=0.15.0->google-api-python-client) (3.1.0)\n",
            "Requirement already satisfied: pyasn1>=0.1.7 in /usr/local/lib/python3.10/dist-packages (from oauth2client>=4.0.0->pydrive) (0.5.0)\n",
            "Requirement already satisfied: oauthlib>=3.0.0 in /usr/local/lib/python3.10/dist-packages (from requests-oauthlib>=0.7.0->google-auth-oauthlib) (3.2.2)\n",
            "Requirement already satisfied: urllib3<1.27,>=1.21.1 in /usr/local/lib/python3.10/dist-packages (from requests<3.0.0.dev0,>=2.18.0->google-api-core!=2.0.*,!=2.1.*,!=2.2.*,!=2.3.0,<3.0.0dev,>=1.31.5->google-api-python-client) (1.26.16)\n",
            "Requirement already satisfied: certifi>=2017.4.17 in /usr/local/lib/python3.10/dist-packages (from requests<3.0.0.dev0,>=2.18.0->google-api-core!=2.0.*,!=2.1.*,!=2.2.*,!=2.3.0,<3.0.0dev,>=1.31.5->google-api-python-client) (2023.5.7)\n",
            "Requirement already satisfied: charset-normalizer~=2.0.0 in /usr/local/lib/python3.10/dist-packages (from requests<3.0.0.dev0,>=2.18.0->google-api-core!=2.0.*,!=2.1.*,!=2.2.*,!=2.3.0,<3.0.0dev,>=1.31.5->google-api-python-client) (2.0.12)\n",
            "Requirement already satisfied: idna<4,>=2.5 in /usr/local/lib/python3.10/dist-packages (from requests<3.0.0.dev0,>=2.18.0->google-api-core!=2.0.*,!=2.1.*,!=2.2.*,!=2.3.0,<3.0.0dev,>=1.31.5->google-api-python-client) (3.4)\n"
          ]
        }
      ]
    },
    {
      "cell_type": "code",
      "execution_count": null,
      "metadata": {
        "id": "o8TsVyRE5Ys_"
      },
      "outputs": [],
      "source": [
        "# Import the necessary libraries\n",
        "import pandas as pd\n",
        "import seaborn as sns\n",
        "import matplotlib.pyplot as plt\n",
        "import time\n",
        "from PIL import Image\n",
        "from IPython.display import display, Javascript\n",
        "import os\n",
        "from pydrive.auth import GoogleAuth\n",
        "from pydrive.drive import GoogleDrive\n",
        "from googleapiclient.discovery import build\n",
        "from googleapiclient.http import MediaFileUpload\n",
        "\n"
      ]
    },
    {
      "cell_type": "code",
      "source": [
        "# Load the Iris dataset\n",
        "iris_data_url = \"https://raw.githubusercontent.com/mwaskom/seaborn-data/master/iris.csv\"\n",
        "df = pd.read_csv(iris_data_url)"
      ],
      "metadata": {
        "id": "CJH8XNAZ6Xpn"
      },
      "execution_count": null,
      "outputs": []
    },
    {
      "cell_type": "code",
      "source": [
        "\n",
        "# Display the first few rows of the dataset\n",
        "df.head()"
      ],
      "metadata": {
        "colab": {
          "base_uri": "https://localhost:8080/",
          "height": 206
        },
        "id": "US77ZSdp6ceC",
        "outputId": "438e9867-1649-45a3-b642-ee7f802cbfb5"
      },
      "execution_count": null,
      "outputs": [
        {
          "output_type": "execute_result",
          "data": {
            "text/plain": [
              "   sepal_length  sepal_width  petal_length  petal_width species\n",
              "0           5.1          3.5           1.4          0.2  setosa\n",
              "1           4.9          3.0           1.4          0.2  setosa\n",
              "2           4.7          3.2           1.3          0.2  setosa\n",
              "3           4.6          3.1           1.5          0.2  setosa\n",
              "4           5.0          3.6           1.4          0.2  setosa"
            ],
            "text/html": [
              "\n",
              "  <div id=\"df-48f78d74-2c34-4b7a-82e1-f1a68db3b180\">\n",
              "    <div class=\"colab-df-container\">\n",
              "      <div>\n",
              "<style scoped>\n",
              "    .dataframe tbody tr th:only-of-type {\n",
              "        vertical-align: middle;\n",
              "    }\n",
              "\n",
              "    .dataframe tbody tr th {\n",
              "        vertical-align: top;\n",
              "    }\n",
              "\n",
              "    .dataframe thead th {\n",
              "        text-align: right;\n",
              "    }\n",
              "</style>\n",
              "<table border=\"1\" class=\"dataframe\">\n",
              "  <thead>\n",
              "    <tr style=\"text-align: right;\">\n",
              "      <th></th>\n",
              "      <th>sepal_length</th>\n",
              "      <th>sepal_width</th>\n",
              "      <th>petal_length</th>\n",
              "      <th>petal_width</th>\n",
              "      <th>species</th>\n",
              "    </tr>\n",
              "  </thead>\n",
              "  <tbody>\n",
              "    <tr>\n",
              "      <th>0</th>\n",
              "      <td>5.1</td>\n",
              "      <td>3.5</td>\n",
              "      <td>1.4</td>\n",
              "      <td>0.2</td>\n",
              "      <td>setosa</td>\n",
              "    </tr>\n",
              "    <tr>\n",
              "      <th>1</th>\n",
              "      <td>4.9</td>\n",
              "      <td>3.0</td>\n",
              "      <td>1.4</td>\n",
              "      <td>0.2</td>\n",
              "      <td>setosa</td>\n",
              "    </tr>\n",
              "    <tr>\n",
              "      <th>2</th>\n",
              "      <td>4.7</td>\n",
              "      <td>3.2</td>\n",
              "      <td>1.3</td>\n",
              "      <td>0.2</td>\n",
              "      <td>setosa</td>\n",
              "    </tr>\n",
              "    <tr>\n",
              "      <th>3</th>\n",
              "      <td>4.6</td>\n",
              "      <td>3.1</td>\n",
              "      <td>1.5</td>\n",
              "      <td>0.2</td>\n",
              "      <td>setosa</td>\n",
              "    </tr>\n",
              "    <tr>\n",
              "      <th>4</th>\n",
              "      <td>5.0</td>\n",
              "      <td>3.6</td>\n",
              "      <td>1.4</td>\n",
              "      <td>0.2</td>\n",
              "      <td>setosa</td>\n",
              "    </tr>\n",
              "  </tbody>\n",
              "</table>\n",
              "</div>\n",
              "      <button class=\"colab-df-convert\" onclick=\"convertToInteractive('df-48f78d74-2c34-4b7a-82e1-f1a68db3b180')\"\n",
              "              title=\"Convert this dataframe to an interactive table.\"\n",
              "              style=\"display:none;\">\n",
              "        \n",
              "  <svg xmlns=\"http://www.w3.org/2000/svg\" height=\"24px\"viewBox=\"0 0 24 24\"\n",
              "       width=\"24px\">\n",
              "    <path d=\"M0 0h24v24H0V0z\" fill=\"none\"/>\n",
              "    <path d=\"M18.56 5.44l.94 2.06.94-2.06 2.06-.94-2.06-.94-.94-2.06-.94 2.06-2.06.94zm-11 1L8.5 8.5l.94-2.06 2.06-.94-2.06-.94L8.5 2.5l-.94 2.06-2.06.94zm10 10l.94 2.06.94-2.06 2.06-.94-2.06-.94-.94-2.06-.94 2.06-2.06.94z\"/><path d=\"M17.41 7.96l-1.37-1.37c-.4-.4-.92-.59-1.43-.59-.52 0-1.04.2-1.43.59L10.3 9.45l-7.72 7.72c-.78.78-.78 2.05 0 2.83L4 21.41c.39.39.9.59 1.41.59.51 0 1.02-.2 1.41-.59l7.78-7.78 2.81-2.81c.8-.78.8-2.07 0-2.86zM5.41 20L4 18.59l7.72-7.72 1.47 1.35L5.41 20z\"/>\n",
              "  </svg>\n",
              "      </button>\n",
              "      \n",
              "  <style>\n",
              "    .colab-df-container {\n",
              "      display:flex;\n",
              "      flex-wrap:wrap;\n",
              "      gap: 12px;\n",
              "    }\n",
              "\n",
              "    .colab-df-convert {\n",
              "      background-color: #E8F0FE;\n",
              "      border: none;\n",
              "      border-radius: 50%;\n",
              "      cursor: pointer;\n",
              "      display: none;\n",
              "      fill: #1967D2;\n",
              "      height: 32px;\n",
              "      padding: 0 0 0 0;\n",
              "      width: 32px;\n",
              "    }\n",
              "\n",
              "    .colab-df-convert:hover {\n",
              "      background-color: #E2EBFA;\n",
              "      box-shadow: 0px 1px 2px rgba(60, 64, 67, 0.3), 0px 1px 3px 1px rgba(60, 64, 67, 0.15);\n",
              "      fill: #174EA6;\n",
              "    }\n",
              "\n",
              "    [theme=dark] .colab-df-convert {\n",
              "      background-color: #3B4455;\n",
              "      fill: #D2E3FC;\n",
              "    }\n",
              "\n",
              "    [theme=dark] .colab-df-convert:hover {\n",
              "      background-color: #434B5C;\n",
              "      box-shadow: 0px 1px 3px 1px rgba(0, 0, 0, 0.15);\n",
              "      filter: drop-shadow(0px 1px 2px rgba(0, 0, 0, 0.3));\n",
              "      fill: #FFFFFF;\n",
              "    }\n",
              "  </style>\n",
              "\n",
              "      <script>\n",
              "        const buttonEl =\n",
              "          document.querySelector('#df-48f78d74-2c34-4b7a-82e1-f1a68db3b180 button.colab-df-convert');\n",
              "        buttonEl.style.display =\n",
              "          google.colab.kernel.accessAllowed ? 'block' : 'none';\n",
              "\n",
              "        async function convertToInteractive(key) {\n",
              "          const element = document.querySelector('#df-48f78d74-2c34-4b7a-82e1-f1a68db3b180');\n",
              "          const dataTable =\n",
              "            await google.colab.kernel.invokeFunction('convertToInteractive',\n",
              "                                                     [key], {});\n",
              "          if (!dataTable) return;\n",
              "\n",
              "          const docLinkHtml = 'Like what you see? Visit the ' +\n",
              "            '<a target=\"_blank\" href=https://colab.research.google.com/notebooks/data_table.ipynb>data table notebook</a>'\n",
              "            + ' to learn more about interactive tables.';\n",
              "          element.innerHTML = '';\n",
              "          dataTable['output_type'] = 'display_data';\n",
              "          await google.colab.output.renderOutput(dataTable, element);\n",
              "          const docLink = document.createElement('div');\n",
              "          docLink.innerHTML = docLinkHtml;\n",
              "          element.appendChild(docLink);\n",
              "        }\n",
              "      </script>\n",
              "    </div>\n",
              "  </div>\n",
              "  "
            ]
          },
          "metadata": {},
          "execution_count": 180
        }
      ]
    },
    {
      "cell_type": "code",
      "source": [
        "# Calculate summary statistics\n",
        "summary_stats = df.describe()\n",
        "print(summary_stats)"
      ],
      "metadata": {
        "colab": {
          "base_uri": "https://localhost:8080/"
        },
        "id": "5WUbYDzF6ifG",
        "outputId": "3f03ceb2-bbe2-4c6a-dfdc-b301e51c25dd"
      },
      "execution_count": null,
      "outputs": [
        {
          "output_type": "stream",
          "name": "stdout",
          "text": [
            "       sepal_length  sepal_width  petal_length  petal_width\n",
            "count    150.000000   150.000000    150.000000   150.000000\n",
            "mean       5.843333     3.057333      3.758000     1.199333\n",
            "std        0.828066     0.435866      1.765298     0.762238\n",
            "min        4.300000     2.000000      1.000000     0.100000\n",
            "25%        5.100000     2.800000      1.600000     0.300000\n",
            "50%        5.800000     3.000000      4.350000     1.300000\n",
            "75%        6.400000     3.300000      5.100000     1.800000\n",
            "max        7.900000     4.400000      6.900000     2.500000\n"
          ]
        }
      ]
    },
    {
      "cell_type": "code",
      "source": [
        "def print_scatter(df):\n",
        "  sns.pairplot(df, hue=\"species\")\n"
      ],
      "metadata": {
        "id": "xScs8wx46CZV"
      },
      "execution_count": null,
      "outputs": []
    },
    {
      "cell_type": "code",
      "source": [
        "#from IPython.display import Image as IPImage, display\n",
        "\n",
        "def capture_screenshot(iteration, fig):\n",
        "    # Capture the current plot using matplotlib\n",
        "    #fig = plt.figure()\n",
        "   # plt.axis('off')\n",
        "    plt.savefig(f'/content/screenshot_folder/iteration_{iteration}.png', bbox_inches='tight', pad_inches=0)\n",
        "    plt.close(fig)\n",
        "\n",
        "    # Display the saved screenshot\n",
        "    #save_path = f'/content/screenshot_folder/iteration_{iteration}.png'\n",
        "   # display(IPImage(save_path))\n"
      ],
      "metadata": {
        "id": "d5JIz4_F6uu9"
      },
      "execution_count": null,
      "outputs": []
    },
    {
      "cell_type": "code",
      "source": [
        "n = 10  # Number of iterations\n",
        "\n",
        "for i in range(n):\n",
        "    print(i)\n",
        "    fig = print_scatter(df)\n",
        "    capture_screenshot(i + 1, fig)\n",
        "\n"
      ],
      "metadata": {
        "colab": {
          "base_uri": "https://localhost:8080/"
        },
        "id": "m6Nk6U_968oX",
        "outputId": "37ff08e6-4fe3-44be-ff17-044119413241"
      },
      "execution_count": null,
      "outputs": [
        {
          "output_type": "stream",
          "name": "stdout",
          "text": [
            "0\n",
            "1\n",
            "2\n",
            "3\n",
            "4\n",
            "5\n",
            "6\n",
            "7\n",
            "8\n",
            "9\n"
          ]
        }
      ]
    },
    {
      "cell_type": "markdown",
      "source": [
        "Preparing the slide ...."
      ],
      "metadata": {
        "id": "W3KwOSuSGKNE"
      }
    },
    {
      "cell_type": "code",
      "source": [
        "from google.colab import drive\n",
        "from google.colab import auth\n",
        "from googleapiclient.discovery import build\n",
        "from googleapiclient.http import MediaFileUpload"
      ],
      "metadata": {
        "id": "qkvfcSb9GNQA"
      },
      "execution_count": null,
      "outputs": []
    },
    {
      "cell_type": "code",
      "source": [
        "# Authenticate and mount Google Drive\n",
        "auth.authenticate_user()\n",
        "drive.mount('/content/drive')"
      ],
      "metadata": {
        "colab": {
          "base_uri": "https://localhost:8080/"
        },
        "id": "KI2FIBatGonX",
        "outputId": "6c2d2a00-cded-40bb-af84-d63154122f5b"
      },
      "execution_count": null,
      "outputs": [
        {
          "output_type": "stream",
          "name": "stdout",
          "text": [
            "Drive already mounted at /content/drive; to attempt to forcibly remount, call drive.mount(\"/content/drive\", force_remount=True).\n"
          ]
        }
      ]
    },
    {
      "cell_type": "code",
      "source": [
        "# Set the path to the folder containing the generated images\n",
        "images_folder_path = '/content/screenshot_folder'"
      ],
      "metadata": {
        "id": "Ft-P8KYeGuik"
      },
      "execution_count": null,
      "outputs": []
    },
    {
      "cell_type": "code",
      "source": [
        "# Set the Google Slide presentation ID\n",
        "presentation_id = '1JqzW5nNoRzS8DER3Z892-xQNPHfdYTVseyV5UOILmwk'\n",
        "\n",
        "# Set the starting iteration number\n",
        "start_iteration = 1\n",
        "\n",
        "# Build the Google Slides API service\n",
        "service = build('slides', 'v1')\n",
        "\n",
        "# Get the list of image files in the folder\n",
        "import os\n",
        "image_files = [f for f in os.listdir(images_folder_path) if os.path.isfile(os.path.join(images_folder_path, f))]\n"
      ],
      "metadata": {
        "id": "kwhQnzlkG6UQ"
      },
      "execution_count": null,
      "outputs": []
    },
    {
      "cell_type": "code",
      "source": [
        "#crete a deck....\n",
        "\n",
        "def create_deck():\n",
        " body = {\n",
        "            'title': 'Gotcha!!! all the images'\n",
        "        }\n",
        " presentation = service.presentations() \\\n",
        "            .create(body=body).execute()\n",
        " print(f\"Created presentation with ID:\"\n",
        "              f\"{(presentation.get('presentationId'))}\")\n",
        "\n",
        " presentation_id = presentation.get('presentationId')\n",
        "\n",
        " create_slides(presentation_id)\n"
      ],
      "metadata": {
        "id": "s0M5-KfsOvC6"
      },
      "execution_count": null,
      "outputs": []
    },
    {
      "cell_type": "code",
      "source": [
        "# Iterate over the image files and create slide one by one.\n",
        "\n",
        "def create_slides(presentation_id):\n",
        "\n",
        " for i, image_file in enumerate(image_files):\n",
        "    # Generate the slide page with image and iteration label\n",
        "    requests = [\n",
        "            {\n",
        "                'createSlide': {\n",
        "                    'objectId': f'slide:{i}',\n",
        "                    'insertionIndex': '1'\n",
        "\n",
        "                }\n",
        "            }\n",
        "        ]\n",
        "    body = {\n",
        "            'requests': requests\n",
        "        }\n",
        "    response = service.presentations() \\\n",
        "            .batchUpdate(presentationId=presentation_id, body=body).execute()\n",
        "    create_slide_response = response.get('replies')[0].get('createSlide')\n",
        "    print(f\"Created slide with ID:\"\n",
        "              f\"{(create_slide_response.get('objectId'))}\")\n",
        "    page_id = create_slide_response.get('objectId')\n",
        "    text_filed_id = insert_text(presentation_id, page_id, i)\n",
        "    text_formatting(presentation_id, page_id, i, text_filed_id)\n",
        "    insert_image_below_heading(presentation_id, page_id, i)\n",
        "\n",
        "\n",
        "\n",
        "\n",
        "\n"
      ],
      "metadata": {
        "id": "Qf65yZdrHx2F"
      },
      "execution_count": null,
      "outputs": []
    },
    {
      "cell_type": "code",
      "source": [
        "#insert heading into every slide\n",
        "\n",
        "def insert_text(presentation_id, page_id, i):\n",
        "  element_id = f'MyTextBox_10_{i}'\n",
        "  pt350 = {\n",
        "            'magnitude': 24,\n",
        "            'unit': 'PT'\n",
        "        }\n",
        "  requests = [\n",
        "            {\n",
        "                'createShape': {\n",
        "                    'objectId': element_id,\n",
        "                    'shapeType': 'TEXT_BOX',\n",
        "                    'elementProperties': {\n",
        "                        'pageObjectId': page_id,\n",
        "                        'size': {\n",
        "                            'height': {\n",
        "                            'magnitude': 100,\n",
        "                            'unit': 'PT'\n",
        "                        },\n",
        "                        'width': {\n",
        "                            'magnitude': 600,\n",
        "                            'unit': 'PT'\n",
        "                        }\n",
        "                        },\n",
        "                        'transform': {\n",
        "                            'scaleX': 1,\n",
        "                            'scaleY': 1,\n",
        "                            'translateX': 20,\n",
        "                            'translateY': 30,\n",
        "                            'unit': 'PT'\n",
        "                        }\n",
        "                    }\n",
        "                }\n",
        "            },\n",
        "\n",
        "            # Insert text into the box, using the supplied element ID.\n",
        "            {\n",
        "                'insertText': {\n",
        "                    'objectId': element_id,\n",
        "                    'insertionIndex': 0,\n",
        "                    'text': f'Class: {i}'\n",
        "                }\n",
        "\n",
        "            }\n",
        "        ]\n",
        "\n",
        "        # Execute the request.\n",
        "  body = {\n",
        "            'requests': requests\n",
        "        }\n",
        "  response = service.presentations() \\\n",
        "            .batchUpdate(presentationId=presentation_id, body=body).execute()\n",
        "  create_shape_response = response.get('replies')[0].get('createShape')\n",
        "  print(f\"Created textbox with ID:\"\n",
        "              f\"{(create_shape_response.get('objectId'))}\")\n",
        "  text_filed_id = create_shape_response.get('objectId')\n",
        "  return text_filed_id"
      ],
      "metadata": {
        "id": "8hNOwaIc_hfX"
      },
      "execution_count": null,
      "outputs": []
    },
    {
      "cell_type": "code",
      "source": [
        "#heading formatting\n",
        "\n",
        "def text_formatting(presentation_id, page_id, i, text_filed_id):\n",
        "    print(text_filed_id)\n",
        "    requests = [\n",
        "\n",
        "            {\n",
        "                'updateTextStyle': {\n",
        "                    'objectId': text_filed_id,\n",
        "\n",
        "                    'style': {\n",
        "                        'fontFamily': 'Arial',\n",
        "                        'bold': True,\n",
        "                        'fontSize': {\n",
        "                            'magnitude': 24,\n",
        "                            'unit': 'PT'\n",
        "                        }\n",
        "\n",
        "                    },\n",
        "                    'fields': 'fontFamily,fontSize'\n",
        "                }\n",
        "            }\n",
        "        ]\n",
        "\n",
        "        # Execute the requests.\n",
        "    body = {\n",
        "            'requests': requests\n",
        "        }\n",
        "    response = service.presentations().batchUpdate(\n",
        "            presentationId=presentation_id, body=body).execute()\n",
        "    print(f\"Updated the text style for shape with ID:{text_filed_id}\")\n"
      ],
      "metadata": {
        "id": "5xrN8BJtSWMW"
      },
      "execution_count": null,
      "outputs": []
    },
    {
      "cell_type": "code",
      "source": [
        "#inserting image in every slide.\n",
        "def insert_image_below_heading(presentation_id, page_id, i):\n",
        "    requests = []\n",
        "    image_id = f'MyImage_11_{i}'\n",
        "    image_file_path = f'/content/screenshot_folder/iteration_{i+1}.png'\n",
        "    image_file = open(image_file_path, 'rb').read()\n",
        "    IMAGE_URL = get_image_id(image_file_path,i)\n",
        "    IMAGE_URL = IMAGE_URL\n",
        "    #IMAGE_URL = f'https://drive.google.com/uc?export=view&id={image_id}'\n",
        "    print(\"1 \"+ IMAGE_URL)\n",
        "    #IMAGE_URL = 'https://drive.google.com/uc?export=view&id=1fyPM-JLC7qYNKF6rGsmJipNGyogDGGWl'\n",
        "    print(\"2 \"+ IMAGE_URL)\n",
        "\n",
        "    emu4M = {\n",
        "        'magnitude': 4000000,\n",
        "        'unit': 'EMU'\n",
        "    }\n",
        "    requests.append({\n",
        "        'createImage': {\n",
        "            'objectId': image_id,\n",
        "            'url': IMAGE_URL,\n",
        "            'elementProperties': {\n",
        "                'pageObjectId': page_id,\n",
        "                'size': {\n",
        "                    'height': emu4M,\n",
        "                    'width': {\n",
        "                        'magnitude': 10**6,  # Width spanning the slide\n",
        "                        'unit': 'EMU'\n",
        "                    }\n",
        "                },\n",
        "                'transform': {\n",
        "                    'scaleX': 1,\n",
        "                    'scaleY': 1,\n",
        "                    'translateX': 100000,  # Left margin\n",
        "                    'translateY': 200000,  # Vertical position below heading\n",
        "                    'unit': 'EMU'\n",
        "                }\n",
        "            }\n",
        "        }\n",
        "    })\n",
        "\n",
        "    # Execute the request.\n",
        "    body = {\n",
        "        'requests': requests\n",
        "    }\n",
        "    #print(f'https://drive.google.com/uc?export=view&id={image_id}')\n",
        "    response = service.presentations().batchUpdate(presentationId=presentation_id, body=body).execute()\n",
        "    create_image_response = response.get('replies')[0].get('createImage')\n",
        "    print(f\"Created image with ID: {(create_image_response.get('objectId'))}\")\n",
        "\n",
        "\n",
        "\n",
        "\n",
        "\n"
      ],
      "metadata": {
        "id": "WnLp9OqEVlRi"
      },
      "execution_count": null,
      "outputs": []
    },
    {
      "cell_type": "code",
      "source": [
        "#this code will move the image in screenshot directory of google drive and return back the image id in order to get the URl\n",
        "import time\n",
        "def get_image_id(image_file_path, i):\n",
        "    drive_service = build('drive', 'v3')\n",
        "    file_metadata = {\n",
        "        'name': f'image_{i+1}.png',\n",
        "        'parents': ['1jO5XnH_r3HJxphMeZ_NmecveUxdcMETL'],\n",
        "        'mimeType': 'image/png',\n",
        "        'role': 'viewer',\n",
        "        'type': 'anyone'\n",
        "    }\n",
        "    media = MediaFileUpload(image_file_path, mimetype='image/png', resumable=True)\n",
        "    uploaded_file = drive_service.files().create(body=file_metadata, media_body=media, fields='id').execute()\n",
        "    image_id = uploaded_file['id']\n",
        "    IMAGE_URL ='https://drive.google.com/uc?export=view&id='+image_id\n",
        "    time.sleep(20)\n",
        "    return IMAGE_URL\n"
      ],
      "metadata": {
        "id": "_lFgceNfeqBG"
      },
      "execution_count": null,
      "outputs": []
    },
    {
      "cell_type": "code",
      "source": [
        "create_deck()\n"
      ],
      "metadata": {
        "colab": {
          "base_uri": "https://localhost:8080/"
        },
        "id": "3ukQkCCXBwPw",
        "outputId": "2c7a04e1-4eab-4800-962f-b289e7c95533"
      },
      "execution_count": null,
      "outputs": [
        {
          "output_type": "stream",
          "name": "stdout",
          "text": [
            "Created presentation with ID:1l5cBi47sOTt8sMnVwTg4eC77jMvr8pp76q4c8DS2LwE\n",
            "Created slide with ID:slide:0\n",
            "Created textbox with ID:MyTextBox_10_0\n",
            "MyTextBox_10_0\n",
            "Updated the text style for shape with ID:MyTextBox_10_0\n",
            "1 https://drive.google.com/uc?export=view&id=1TyoQ-vqWQ6BM8YcRVRk6vp7xar4ry2eS\n",
            "2 https://drive.google.com/uc?export=view&id=1TyoQ-vqWQ6BM8YcRVRk6vp7xar4ry2eS\n",
            "Created image with ID: MyImage_11_0\n",
            "Created slide with ID:slide:1\n",
            "Created textbox with ID:MyTextBox_10_1\n",
            "MyTextBox_10_1\n",
            "Updated the text style for shape with ID:MyTextBox_10_1\n",
            "1 https://drive.google.com/uc?export=view&id=1nGlQuqYlvL4gGGlvHoEZJS6_AIj9ux0F\n",
            "2 https://drive.google.com/uc?export=view&id=1nGlQuqYlvL4gGGlvHoEZJS6_AIj9ux0F\n",
            "Created image with ID: MyImage_11_1\n",
            "Created slide with ID:slide:2\n",
            "Created textbox with ID:MyTextBox_10_2\n",
            "MyTextBox_10_2\n",
            "Updated the text style for shape with ID:MyTextBox_10_2\n",
            "1 https://drive.google.com/uc?export=view&id=1ZYrKiEmlCD9InTUofxF1ZmZzjXhAMwla\n",
            "2 https://drive.google.com/uc?export=view&id=1ZYrKiEmlCD9InTUofxF1ZmZzjXhAMwla\n",
            "Created image with ID: MyImage_11_2\n",
            "Created slide with ID:slide:3\n",
            "Created textbox with ID:MyTextBox_10_3\n",
            "MyTextBox_10_3\n",
            "Updated the text style for shape with ID:MyTextBox_10_3\n",
            "1 https://drive.google.com/uc?export=view&id=1O0rvi8Y9AUCjzpVZrB1sC9oHrnlguuxv\n",
            "2 https://drive.google.com/uc?export=view&id=1O0rvi8Y9AUCjzpVZrB1sC9oHrnlguuxv\n",
            "Created image with ID: MyImage_11_3\n",
            "Created slide with ID:slide:4\n",
            "Created textbox with ID:MyTextBox_10_4\n",
            "MyTextBox_10_4\n",
            "Updated the text style for shape with ID:MyTextBox_10_4\n",
            "1 https://drive.google.com/uc?export=view&id=1l9iop7rUkOMmGGtP-ejM7rRuF2hkErar\n",
            "2 https://drive.google.com/uc?export=view&id=1l9iop7rUkOMmGGtP-ejM7rRuF2hkErar\n",
            "Created image with ID: MyImage_11_4\n",
            "Created slide with ID:slide:5\n",
            "Created textbox with ID:MyTextBox_10_5\n",
            "MyTextBox_10_5\n",
            "Updated the text style for shape with ID:MyTextBox_10_5\n",
            "1 https://drive.google.com/uc?export=view&id=1BM-cbDCXXuRCenCTMlgv2boVz4RqCwKo\n",
            "2 https://drive.google.com/uc?export=view&id=1BM-cbDCXXuRCenCTMlgv2boVz4RqCwKo\n",
            "Created image with ID: MyImage_11_5\n",
            "Created slide with ID:slide:6\n",
            "Created textbox with ID:MyTextBox_10_6\n",
            "MyTextBox_10_6\n",
            "Updated the text style for shape with ID:MyTextBox_10_6\n",
            "1 https://drive.google.com/uc?export=view&id=162EOOhlw5GYKsz4EcbsmNeBKzcqXRpsJ\n",
            "2 https://drive.google.com/uc?export=view&id=162EOOhlw5GYKsz4EcbsmNeBKzcqXRpsJ\n",
            "Created image with ID: MyImage_11_6\n",
            "Created slide with ID:slide:7\n",
            "Created textbox with ID:MyTextBox_10_7\n",
            "MyTextBox_10_7\n",
            "Updated the text style for shape with ID:MyTextBox_10_7\n",
            "1 https://drive.google.com/uc?export=view&id=1l1xsy4SlLtOXroVT1TifO7JOO-vCKDms\n",
            "2 https://drive.google.com/uc?export=view&id=1l1xsy4SlLtOXroVT1TifO7JOO-vCKDms\n",
            "Created image with ID: MyImage_11_7\n",
            "Created slide with ID:slide:8\n",
            "Created textbox with ID:MyTextBox_10_8\n",
            "MyTextBox_10_8\n",
            "Updated the text style for shape with ID:MyTextBox_10_8\n",
            "1 https://drive.google.com/uc?export=view&id=1v5YdKypzli9t4zovBU4-x1ziJOrHMGsi\n",
            "2 https://drive.google.com/uc?export=view&id=1v5YdKypzli9t4zovBU4-x1ziJOrHMGsi\n",
            "Created image with ID: MyImage_11_8\n",
            "Created slide with ID:slide:9\n",
            "Created textbox with ID:MyTextBox_10_9\n",
            "MyTextBox_10_9\n",
            "Updated the text style for shape with ID:MyTextBox_10_9\n",
            "1 https://drive.google.com/uc?export=view&id=14vh1TZ45d1oRdi5IlrUYo8P4RmwGJf3A\n",
            "2 https://drive.google.com/uc?export=view&id=14vh1TZ45d1oRdi5IlrUYo8P4RmwGJf3A\n",
            "Created image with ID: MyImage_11_9\n"
          ]
        }
      ]
    }
  ]
}